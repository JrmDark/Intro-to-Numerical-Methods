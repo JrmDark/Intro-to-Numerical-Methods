{
  "nbformat": 4,
  "nbformat_minor": 0,
  "metadata": {
    "colab": {
      "name": "Python Exercise 1.ipynb",
      "provenance": [],
      "collapsed_sections": []
    },
    "kernelspec": {
      "name": "python3",
      "display_name": "Python 3"
    },
    "language_info": {
      "name": "python"
    }
  },
  "cells": [
    {
      "cell_type": "markdown",
      "metadata": {
        "id": "TVpBegYjb_uz"
      },
      "source": [
        "# Python Exercise 1\n",
        "\n",
        "#### **Hubilla, Jerome B.**"
      ]
    },
    {
      "cell_type": "code",
      "metadata": {
        "colab": {
          "base_uri": "https://localhost:8080/"
        },
        "id": "_AfyBfSBe-b_",
        "outputId": "fde3bdac-378a-4ecc-e5a9-194ddafbe7e2"
      },
      "source": [
        "print (\"Enter Your Name: \")\n",
        "name = input()\n",
        "print (\"Enter Prelim Grade:\")\n",
        "pre = int(input())\n",
        "print (\"Enter Midterm Grade:\")\n",
        "mid = int (input())\n",
        "print (\"Enter Final Grade:\")\n",
        "fin = int(input())\n",
        "sem = (0.30*pre)+(0.30*mid)+(0.40*fin)\n",
        "print (name+\" Your Semestral Grade is: \")\n",
        "sem"
      ],
      "execution_count": 22,
      "outputs": [
        {
          "output_type": "stream",
          "text": [
            "Enter Your Name: \n",
            "Jerome Hubilla\n",
            "Enter Prelim Grade:\n",
            "90\n",
            "Enter Midterm Grade:\n",
            "90\n",
            "Enter Final Grade:\n",
            "90\n",
            "Jerome Hubilla Your Semestral Grade is: \n"
          ],
          "name": "stdout"
        },
        {
          "output_type": "execute_result",
          "data": {
            "text/plain": [
              "90.0"
            ]
          },
          "metadata": {},
          "execution_count": 22
        }
      ]
    }
  ]
}