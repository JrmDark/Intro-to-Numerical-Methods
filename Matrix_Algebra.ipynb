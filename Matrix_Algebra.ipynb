{
  "nbformat": 4,
  "nbformat_minor": 0,
  "metadata": {
    "colab": {
      "name": "Matrix Algebra.ipynb",
      "provenance": [],
      "authorship_tag": "ABX9TyMdvZb7k2O1PMrAnAUKkByE",
      "include_colab_link": true
    },
    "kernelspec": {
      "name": "python3",
      "display_name": "Python 3"
    },
    "language_info": {
      "name": "python"
    }
  },
  "cells": [
    {
      "cell_type": "markdown",
      "metadata": {
        "id": "view-in-github",
        "colab_type": "text"
      },
      "source": [
        "<a href=\"https://colab.research.google.com/github/JrmDark/Intro-to-Numerical-Methods/blob/main/Matrix_Algebra.ipynb\" target=\"_parent\"><img src=\"https://colab.research.google.com/assets/colab-badge.svg\" alt=\"Open In Colab\"/></a>"
      ]
    },
    {
      "cell_type": "markdown",
      "metadata": {
        "id": "rNv5r2hFUQUm"
      },
      "source": [
        "## Matrix and its Operations\n"
      ]
    },
    {
      "cell_type": "code",
      "metadata": {
        "colab": {
          "base_uri": "https://localhost:8080/"
        },
        "id": "eyvxADDRT2Jj",
        "outputId": "fc8522e2-ff1c-4c1a-fc14-5352776a285a"
      },
      "source": [
        "import numpy as np\n",
        "a = np.array([1,2,3]) #This is a 1x3 array\n",
        "a[0] = 4\n",
        "print(a)"
      ],
      "execution_count": 9,
      "outputs": [
        {
          "output_type": "stream",
          "name": "stdout",
          "text": [
            "[4 2 3]\n"
          ]
        }
      ]
    },
    {
      "cell_type": "code",
      "metadata": {
        "colab": {
          "base_uri": "https://localhost:8080/"
        },
        "id": "UIdp6TjsU2-Q",
        "outputId": "5edd076c-1170-4ce5-84fb-da77ed126c79"
      },
      "source": [
        "import numpy as np\n",
        "b = np.array([[1,2,3],[4,5,6]]) #This is an example 2x3 matrix\n",
        "b[0,0] = 7\n",
        "print(b)\n"
      ],
      "execution_count": 10,
      "outputs": [
        {
          "output_type": "stream",
          "name": "stdout",
          "text": [
            "[[7 2 3]\n",
            " [4 5 6]]\n"
          ]
        }
      ]
    },
    {
      "cell_type": "code",
      "metadata": {
        "colab": {
          "base_uri": "https://localhost:8080/"
        },
        "id": "7Y8ih0g6XOok",
        "outputId": "fd5e1de5-c0d0-49cd-f2c2-58e17310a8df"
      },
      "source": [
        "import numpy as np\n",
        "c = np.array([[1,2,3],[4,5,6],[7,8,9]]) #This is an example of square matrix\n",
        "print(c)"
      ],
      "execution_count": 11,
      "outputs": [
        {
          "output_type": "stream",
          "name": "stdout",
          "text": [
            "[[1 2 3]\n",
            " [4 5 6]\n",
            " [7 8 9]]\n"
          ]
        }
      ]
    },
    {
      "cell_type": "code",
      "metadata": {
        "colab": {
          "base_uri": "https://localhost:8080/"
        },
        "id": "hSvUDiOoX0C-",
        "outputId": "7ef187dd-ed4d-4199-f32b-56243c8d3b5b"
      },
      "source": [
        "import numpy as np\n",
        "d = np.full((2,2),4)\n",
        "print(d)"
      ],
      "execution_count": 12,
      "outputs": [
        {
          "output_type": "stream",
          "name": "stdout",
          "text": [
            "[[4 4]\n",
            " [4 4]]\n"
          ]
        }
      ]
    },
    {
      "cell_type": "code",
      "metadata": {
        "colab": {
          "base_uri": "https://localhost:8080/"
        },
        "id": "ooMHHjOPYJTc",
        "outputId": "db8cf33d-3c40-4e7f-98a8-6dc56d082047"
      },
      "source": [
        "import numpy as np\n",
        "e = np.eye(2)\n",
        "print(e)"
      ],
      "execution_count": 13,
      "outputs": [
        {
          "output_type": "stream",
          "name": "stdout",
          "text": [
            "[[1. 0.]\n",
            " [0. 1.]]\n"
          ]
        }
      ]
    },
    {
      "cell_type": "code",
      "metadata": {
        "colab": {
          "base_uri": "https://localhost:8080/"
        },
        "id": "ORaNu1dvYiqC",
        "outputId": "97800374-9eaf-4cbd-936d-8641c9ec9108"
      },
      "source": [
        "import numpy as np\n",
        "e = np.diagonal([[1,2,3],[4,5,6],[7,8,9]])\n",
        "print(e)\n"
      ],
      "execution_count": 14,
      "outputs": [
        {
          "output_type": "stream",
          "name": "stdout",
          "text": [
            "[1 5 9]\n"
          ]
        }
      ]
    },
    {
      "cell_type": "code",
      "metadata": {
        "colab": {
          "base_uri": "https://localhost:8080/"
        },
        "id": "yz3oQgpuZ0Kb",
        "outputId": "a79c21cc-ae6e-451e-e009-73cd2ffc3cf7"
      },
      "source": [
        "import numpy as np\n",
        "f = np.empty((0,10))\n",
        "print(f)"
      ],
      "execution_count": 15,
      "outputs": [
        {
          "output_type": "stream",
          "name": "stdout",
          "text": [
            "[]\n"
          ]
        }
      ]
    },
    {
      "cell_type": "code",
      "metadata": {
        "colab": {
          "base_uri": "https://localhost:8080/"
        },
        "id": "ualCBreXZ93o",
        "outputId": "4660de63-65cf-4c42-8f2b-a40a51f0bcbb"
      },
      "source": [
        "import numpy as np\n",
        "g = np.zeros((2,2))\n",
        "print(g)"
      ],
      "execution_count": 16,
      "outputs": [
        {
          "output_type": "stream",
          "name": "stdout",
          "text": [
            "[[0. 0.]\n",
            " [0. 0.]]\n"
          ]
        }
      ]
    },
    {
      "cell_type": "code",
      "metadata": {
        "colab": {
          "base_uri": "https://localhost:8080/"
        },
        "id": "uqPXU4RTaYk_",
        "outputId": "48068390-3846-4a9e-8634-7e9af8c2e46b"
      },
      "source": [
        "import numpy as np\n",
        "e = np.eye(2)\n",
        "g = np.zeros((2,2))\n",
        "print(e)\n",
        "print(g)\n",
        "print(e+g) #This is the code to get the summation of  matrices e and g\n",
        "print(e-g) #This is the code to get the difference of  matrices e and g\n",
        "print(g-e)"
      ],
      "execution_count": 24,
      "outputs": [
        {
          "output_type": "stream",
          "name": "stdout",
          "text": [
            "[[1. 0.]\n",
            " [0. 1.]]\n",
            "[[0. 0.]\n",
            " [0. 0.]]\n",
            "[[1. 0.]\n",
            " [0. 1.]]\n",
            "[[1. 0.]\n",
            " [0. 1.]]\n",
            "[[-1.  0.]\n",
            " [ 0. -1.]]\n"
          ]
        }
      ]
    }
  ]
}